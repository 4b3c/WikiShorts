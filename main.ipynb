{
 "cells": [
  {
   "cell_type": "code",
   "execution_count": 15,
   "metadata": {},
   "outputs": [],
   "source": [
    "import Autofill, ElevenTTS, CreateVideo, GetAllImages, GetTimes, json, os"
   ]
  },
  {
   "cell_type": "code",
   "execution_count": 2,
   "metadata": {},
   "outputs": [],
   "source": [
    "get_script_prompt = \"I am Jason and here is the script I have been working on, it is my most engaging and captivating \"+\\\n",
    "\t\"short form video script that lasts less than a minute. The video focuses on an obscure topic which most people don't know \"+\\\n",
    "\t\"about, making sure the content is both entertaining and educational and something you've likely never heard about. I've \"+\\\n",
    "\t\"been very creative and imaginative, ensuring that the script clearly communicates the essence of the topic, educating and \"+\\\n",
    "\t\"captivating the audience from start to finish.\\n Here it is:\"\n",
    "get_script_prompt_quote = \"I am a short form video writer and analyst and here is the script I have been working on, it is my \"+\\\n",
    "\t\"most engaging and captivating \"+\\\n",
    "\t\"short form video script that lasts less than a minute. The video focuses on a quote by someone you may have heard of, it is \"+\\\n",
    "\t\"obscure and most people don't know about it. In the video I discuss what it means, both when it was writen and possibly even \"+\\\n",
    "\t\"what it means to us today. I've been very creative and imaginative, ensuring that the script clearly communicates the \"+\\\n",
    "\t\"essence of the quote and author, educating and captivating the audience from start to finish.\\n Here it is:\"\n",
    "\n",
    "get_title_prompt = \"Write a concise title for a short form video of which this is the script: \""
   ]
  },
  {
   "cell_type": "code",
   "execution_count": 3,
   "metadata": {},
   "outputs": [
    {
     "name": "stdout",
     "output_type": "stream",
     "text": [
      "Getting script\n"
     ]
    }
   ],
   "source": [
    "print(\"Getting script\")\n",
    "script = Autofill.ask_ai(get_script_prompt_quote)\n",
    "print(script)"
   ]
  },
  {
   "cell_type": "code",
   "execution_count": 4,
   "metadata": {},
   "outputs": [
    {
     "name": "stdout",
     "output_type": "stream",
     "text": [
      "Getting title\n"
     ]
    }
   ],
   "source": [
    "print(\"Getting title\")\n",
    "title = Autofill.ask_ai(get_title_prompt + script + \"\\nTitle: \")"
   ]
  },
  {
   "cell_type": "code",
   "execution_count": 8,
   "metadata": {},
   "outputs": [
    {
     "name": "stdout",
     "output_type": "stream",
     "text": [
      "Generating text to speech\n"
     ]
    }
   ],
   "source": [
    "print(\"Generating text to speech\")\n",
    "ElevenTTS.save_audio(script)\n",
    "\t"
   ]
  },
  {
   "cell_type": "code",
   "execution_count": 17,
   "metadata": {},
   "outputs": [
    {
     "name": "stdout",
     "output_type": "stream",
     "text": [
      "Getting text timestamps\n"
     ]
    }
   ],
   "source": [
    "print(\"Getting text timestamps\")\n",
    "GetTimes.save_speechmarks(\"Temporary//test.mp3\", script, \"Temporary//word_timestamps.json\", \"Temporary//sentence_timestamps.json\")"
   ]
  },
  {
   "cell_type": "code",
   "execution_count": 18,
   "metadata": {},
   "outputs": [
    {
     "name": "stdout",
     "output_type": "stream",
     "text": [
      "Finding images that match\n"
     ]
    }
   ],
   "source": [
    "print(\"Finding images that match\")\n",
    "all_urls = GetAllImages.store_images()"
   ]
  },
  {
   "cell_type": "code",
   "execution_count": null,
   "metadata": {},
   "outputs": [],
   "source": [
    "print(\"Creating video\")\n",
    "path = CreateVideo.timestamp_video(\"video\" + str(0))"
   ]
  },
  {
   "cell_type": "code",
   "execution_count": null,
   "metadata": {},
   "outputs": [],
   "source": [
    "with open(\"log.txt\", \"a\") as f:\n",
    "    f.write(\"video\" + str(0) + \", title: \" + str(title).replace(\"\\n\", \"\") + \", desc: This video was created with AI\\n\")"
   ]
  }
 ],
 "metadata": {
  "kernelspec": {
   "display_name": "Python 3",
   "language": "python",
   "name": "python3"
  },
  "language_info": {
   "codemirror_mode": {
    "name": "ipython",
    "version": 3
   },
   "file_extension": ".py",
   "mimetype": "text/x-python",
   "name": "python",
   "nbconvert_exporter": "python",
   "pygments_lexer": "ipython3",
   "version": "3.10.9"
  },
  "orig_nbformat": 4
 },
 "nbformat": 4,
 "nbformat_minor": 2
}
